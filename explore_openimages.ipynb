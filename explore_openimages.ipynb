{
  "nbformat": 4,
  "nbformat_minor": 0,
  "metadata": {
    "colab": {
      "name": "explore_openimages.ipynb",
      "provenance": []
    },
    "kernelspec": {
      "name": "python3",
      "display_name": "Python 3"
    }
  },
  "cells": [
    {
      "cell_type": "code",
      "metadata": {
        "id": "hazyNd3x-Qed",
        "colab_type": "code",
        "colab": {}
      },
      "source": [
        "import pandas as pd"
      ],
      "execution_count": null,
      "outputs": []
    },
    {
      "cell_type": "code",
      "metadata": {
        "id": "B1mhYn3CPf4I",
        "colab_type": "code",
        "colab": {}
      },
      "source": [
        "#a set of 30 classes that airbnb cares about\n",
        "subset = [\"Toilet\",\n",
        "          \"Swimming_pool\",\n",
        "          \"Bed\",\n",
        "          \"Billiard_table\",\n",
        "          \"Sink\",\n",
        "          \"Fountain\",\n",
        "          \"Oven\",\n",
        "          \"Ceiling_fan\",\n",
        "          \"Television\",\n",
        "          \"Microwave_oven\",\n",
        "          \"Gas_stove\",\n",
        "          \"Refrigerator\",\n",
        "          \"Kitchen_&_dining_room_table\",\n",
        "          \"Washing_machine\",\n",
        "          \"Bathtub\",\n",
        "          \"Stairs\",\n",
        "          \"Fireplace\",\n",
        "          \"Pillow\",\n",
        "          \"Mirror\",\n",
        "          \"Shower\",\n",
        "          \"Couch\",\n",
        "          \"Countertop\",\n",
        "          \"Coffeemaker\",\n",
        "          \"Dishwasher\",\n",
        "          \"Sofa_bed\",\n",
        "          \"Tree_house\",\n",
        "          \"Towel\",\n",
        "          \"Porch\",\n",
        "          \"Wine_rack\",\n",
        "          \"Jacuzzi\"]\n"
      ],
      "execution_count": null,
      "outputs": []
    },
    {
      "cell_type": "code",
      "metadata": {
        "id": "HoAZXDnHPhzQ",
        "colab_type": "code",
        "colab": {
          "base_uri": "https://localhost:8080/",
          "height": 34
        },
        "outputId": "8f3675b9-8cd7-4420-fe2c-989e9b81c90b"
      },
      "source": [
        "len(subset)"
      ],
      "execution_count": null,
      "outputs": [
        {
          "output_type": "execute_result",
          "data": {
            "text/plain": [
              "30"
            ]
          },
          "metadata": {
            "tags": []
          },
          "execution_count": 4
        }
      ]
    },
    {
      "cell_type": "code",
      "metadata": {
        "id": "_R3f0x5pPkFg",
        "colab_type": "code",
        "colab": {
          "base_uri": "https://localhost:8080/",
          "height": 224
        },
        "outputId": "ac99c35d-f972-43bc-cc9c-3fafd7995268"
      },
      "source": [
        "!wget https://storage.googleapis.com/openimages/2018_04/class-descriptions-boxable.csv"
      ],
      "execution_count": null,
      "outputs": [
        {
          "output_type": "stream",
          "text": [
            "--2020-07-26 14:35:30--  https://storage.googleapis.com/openimages/2018_04/class-descriptions-boxable.csv\n",
            "Resolving storage.googleapis.com (storage.googleapis.com)... 74.125.204.128, 64.233.189.128, 108.177.97.128, ...\n",
            "Connecting to storage.googleapis.com (storage.googleapis.com)|74.125.204.128|:443... connected.\n",
            "HTTP request sent, awaiting response... 200 OK\n",
            "Length: 11255 (11K) [text/csv]\n",
            "Saving to: ‘class-descriptions-boxable.csv’\n",
            "\n",
            "\r          class-des   0%[                    ]       0  --.-KB/s               \rclass-descriptions- 100%[===================>]  10.99K  --.-KB/s    in 0s      \n",
            "\n",
            "2020-07-26 14:35:30 (95.7 MB/s) - ‘class-descriptions-boxable.csv’ saved [11255/11255]\n",
            "\n"
          ],
          "name": "stdout"
        }
      ]
    },
    {
      "cell_type": "code",
      "metadata": {
        "id": "kJAyzN1tQKQU",
        "colab_type": "code",
        "colab": {
          "base_uri": "https://localhost:8080/",
          "height": 102
        },
        "outputId": "73e06ab9-5003-4d2b-f89f-bf0b4c660a98"
      },
      "source": [
        "#total 600 classes in csv,parsing it and downloading data of only 30 subset classes\n",
        "#git repo for it\n",
        "!git clone https://github.com/EscVM/OIDv4_ToolKit.git"
      ],
      "execution_count": null,
      "outputs": [
        {
          "output_type": "stream",
          "text": [
            "Cloning into 'OIDv4_ToolKit'...\n",
            "remote: Enumerating objects: 422, done.\u001b[K\n",
            "remote: Total 422 (delta 0), reused 0 (delta 0), pack-reused 422\u001b[K\n",
            "Receiving objects: 100% (422/422), 34.08 MiB | 39.21 MiB/s, done.\n",
            "Resolving deltas: 100% (146/146), done.\n"
          ],
          "name": "stdout"
        }
      ]
    },
    {
      "cell_type": "code",
      "metadata": {
        "id": "0wGL5_BIQxxu",
        "colab_type": "code",
        "colab": {
          "base_uri": "https://localhost:8080/",
          "height": 649
        },
        "outputId": "8db4d081-ac33-463a-ec9d-fa439200984c"
      },
      "source": [
        "pip install -r /content/OIDv4_ToolKit/requirements.txt"
      ],
      "execution_count": null,
      "outputs": [
        {
          "output_type": "stream",
          "text": [
            "Requirement already satisfied: pandas in /usr/local/lib/python3.6/dist-packages (from -r /content/OIDv4_ToolKit/requirements.txt (line 1)) (1.0.5)\n",
            "Requirement already satisfied: numpy in /usr/local/lib/python3.6/dist-packages (from -r /content/OIDv4_ToolKit/requirements.txt (line 2)) (1.18.5)\n",
            "Collecting awscli\n",
            "\u001b[?25l  Downloading https://files.pythonhosted.org/packages/df/c3/7c49e3729c291b008f57fdd86267d6b1cfd593e8b2942677ca8af7dfc175/awscli-1.18.105-py2.py3-none-any.whl (3.3MB)\n",
            "\u001b[K     |████████████████████████████████| 3.3MB 4.6MB/s \n",
            "\u001b[?25hRequirement already satisfied: urllib3 in /usr/local/lib/python3.6/dist-packages (from -r /content/OIDv4_ToolKit/requirements.txt (line 5)) (1.24.3)\n",
            "Requirement already satisfied: tqdm in /usr/local/lib/python3.6/dist-packages (from -r /content/OIDv4_ToolKit/requirements.txt (line 7)) (4.41.1)\n",
            "Requirement already satisfied: opencv-python in /usr/local/lib/python3.6/dist-packages (from -r /content/OIDv4_ToolKit/requirements.txt (line 9)) (4.1.2.30)\n",
            "Requirement already satisfied: pytz>=2017.2 in /usr/local/lib/python3.6/dist-packages (from pandas->-r /content/OIDv4_ToolKit/requirements.txt (line 1)) (2018.9)\n",
            "Requirement already satisfied: python-dateutil>=2.6.1 in /usr/local/lib/python3.6/dist-packages (from pandas->-r /content/OIDv4_ToolKit/requirements.txt (line 1)) (2.8.1)\n",
            "Requirement already satisfied: s3transfer<0.4.0,>=0.3.0 in /usr/local/lib/python3.6/dist-packages (from awscli->-r /content/OIDv4_ToolKit/requirements.txt (line 3)) (0.3.3)\n",
            "Collecting botocore==1.17.28\n",
            "\u001b[?25l  Downloading https://files.pythonhosted.org/packages/23/6d/0e17d14779c049161b3bbaa6b622d6bf68209082e579376a6cdb8214ec4c/botocore-1.17.28-py2.py3-none-any.whl (6.4MB)\n",
            "\u001b[K     |████████████████████████████████| 6.4MB 47.7MB/s \n",
            "\u001b[?25hRequirement already satisfied: PyYAML<5.4,>=3.10; python_version != \"3.4\" in /usr/local/lib/python3.6/dist-packages (from awscli->-r /content/OIDv4_ToolKit/requirements.txt (line 3)) (3.13)\n",
            "Requirement already satisfied: docutils<0.16,>=0.10 in /usr/local/lib/python3.6/dist-packages (from awscli->-r /content/OIDv4_ToolKit/requirements.txt (line 3)) (0.15.2)\n",
            "Collecting rsa<=4.5.0,>=3.1.2; python_version != \"3.4\"\n",
            "  Downloading https://files.pythonhosted.org/packages/26/f8/8127fdda0294f044121d20aac7785feb810e159098447967a6103dedfb96/rsa-4.5-py2.py3-none-any.whl\n",
            "Collecting colorama<0.4.4,>=0.2.5; python_version != \"3.4\"\n",
            "  Downloading https://files.pythonhosted.org/packages/c9/dc/45cdef1b4d119eb96316b3117e6d5708a08029992b2fee2c143c7a0a5cc5/colorama-0.4.3-py2.py3-none-any.whl\n",
            "Requirement already satisfied: six>=1.5 in /usr/local/lib/python3.6/dist-packages (from python-dateutil>=2.6.1->pandas->-r /content/OIDv4_ToolKit/requirements.txt (line 1)) (1.15.0)\n",
            "Requirement already satisfied: jmespath<1.0.0,>=0.7.1 in /usr/local/lib/python3.6/dist-packages (from botocore==1.17.28->awscli->-r /content/OIDv4_ToolKit/requirements.txt (line 3)) (0.10.0)\n",
            "Requirement already satisfied: pyasn1>=0.1.3 in /usr/local/lib/python3.6/dist-packages (from rsa<=4.5.0,>=3.1.2; python_version != \"3.4\"->awscli->-r /content/OIDv4_ToolKit/requirements.txt (line 3)) (0.4.8)\n",
            "Installing collected packages: botocore, rsa, colorama, awscli\n",
            "  Found existing installation: botocore 1.17.24\n",
            "    Uninstalling botocore-1.17.24:\n",
            "      Successfully uninstalled botocore-1.17.24\n",
            "  Found existing installation: rsa 4.6\n",
            "    Uninstalling rsa-4.6:\n",
            "      Successfully uninstalled rsa-4.6\n",
            "Successfully installed awscli-1.18.105 botocore-1.17.28 colorama-0.4.3 rsa-4.5\n"
          ],
          "name": "stdout"
        },
        {
          "output_type": "display_data",
          "data": {
            "application/vnd.colab-display-data+json": {
              "pip_warning": {
                "packages": [
                  "rsa"
                ]
              }
            }
          },
          "metadata": {
            "tags": []
          }
        }
      ]
    },
    {
      "cell_type": "code",
      "metadata": {
        "id": "iMRJp4BFRDks",
        "colab_type": "code",
        "colab": {
          "base_uri": "https://localhost:8080/",
          "height": 34
        },
        "outputId": "4ab146d7-eeca-4f41-c139-bf75a5755afe"
      },
      "source": [
        "%cd /content/OIDv4_ToolKit/"
      ],
      "execution_count": null,
      "outputs": [
        {
          "output_type": "stream",
          "text": [
            "/content/OIDv4_ToolKit\n"
          ],
          "name": "stdout"
        }
      ]
    },
    {
      "cell_type": "code",
      "metadata": {
        "id": "AnFFaFl9YnV8",
        "colab_type": "code",
        "colab": {
          "base_uri": "https://localhost:8080/",
          "height": 901
        },
        "outputId": "75a09ea2-b53a-4df4-ab92-803ca3fe1a88"
      },
      "source": [
        "!python main.py -h"
      ],
      "execution_count": null,
      "outputs": [
        {
          "output_type": "stream",
          "text": [
            "usage: main.py [-h] [--Dataset /path/to/OID/csv/] [-y]\n",
            "               [--classes list of classes [list of classes ...]]\n",
            "               [--type_csv 'train' or 'validation' or 'test' or 'all']\n",
            "               [--sub Subset of human verified images or machine generated h or m)]\n",
            "               [--image_IsOccluded 1 or 0] [--image_IsTruncated 1 or 0]\n",
            "               [--image_IsGroupOf 1 or 0] [--image_IsDepiction 1 or 0]\n",
            "               [--image_IsInside 1 or 0] [--multiclasses 0 (default or 1]\n",
            "               [--n_threads [default 20]] [--noLabels]\n",
            "               [--limit integer number]\n",
            "               <command> 'downloader', 'visualizer' or 'ill_downloader'.\n",
            "\n",
            "Open Image Dataset Downloader\n",
            "\n",
            "positional arguments:\n",
            "  <command> 'downloader', 'visualizer' or 'ill_downloader'.\n",
            "                        'downloader', 'visualizer' or 'ill_downloader'.\n",
            "\n",
            "optional arguments:\n",
            "  -h, --help            show this help message and exit\n",
            "  --Dataset /path/to/OID/csv/\n",
            "                        Directory of the OID dataset folder\n",
            "  -y, --yes             ans Yes to possible download of missing files\n",
            "  --classes list of classes [list of classes ...]\n",
            "                        Sequence of 'strings' of the wanted classes\n",
            "  --type_csv 'train' or 'validation' or 'test' or 'all'\n",
            "                        From what csv search the images\n",
            "  --sub Subset of human verified images or machine generated (h or m)\n",
            "                        Download from the human verified dataset or from the\n",
            "                        machine generated one.\n",
            "  --image_IsOccluded 1 or 0\n",
            "                        Optional characteristic of the images. Indicates that\n",
            "                        the object is occluded by another object in the image.\n",
            "  --image_IsTruncated 1 or 0\n",
            "                        Optional characteristic of the images. Indicates that\n",
            "                        the object extends beyond the boundary of the image.\n",
            "  --image_IsGroupOf 1 or 0\n",
            "                        Optional characteristic of the images. Indicates that\n",
            "                        the box spans a group of objects (min 5).\n",
            "  --image_IsDepiction 1 or 0\n",
            "                        Optional characteristic of the images. Indicates that\n",
            "                        the object is a depiction.\n",
            "  --image_IsInside 1 or 0\n",
            "                        Optional characteristic of the images. Indicates a\n",
            "                        picture taken from the inside of the object.\n",
            "  --multiclasses 0 (default) or 1\n",
            "                        Download different classes separately (0) or together\n",
            "                        (1)\n",
            "  --n_threads [default 20]\n",
            "                        Num of the threads to use\n",
            "  --noLabels            No labels creations\n",
            "  --limit integer number\n",
            "                        Optional limit on number of images to download\n"
          ],
          "name": "stdout"
        }
      ]
    },
    {
      "cell_type": "code",
      "metadata": {
        "id": "iqLcO_kPYpZO",
        "colab_type": "code",
        "colab": {
          "base_uri": "https://localhost:8080/",
          "height": 419
        },
        "outputId": "58dd6fa7-92b7-48bf-8477-bcbd0a3f2fef"
      },
      "source": [
        "df_classes = pd.read_csv('/content/class-descriptions-boxable.csv',names = ['id','names'])\n",
        "df_classes"
      ],
      "execution_count": null,
      "outputs": [
        {
          "output_type": "execute_result",
          "data": {
            "text/html": [
              "<div>\n",
              "<style scoped>\n",
              "    .dataframe tbody tr th:only-of-type {\n",
              "        vertical-align: middle;\n",
              "    }\n",
              "\n",
              "    .dataframe tbody tr th {\n",
              "        vertical-align: top;\n",
              "    }\n",
              "\n",
              "    .dataframe thead th {\n",
              "        text-align: right;\n",
              "    }\n",
              "</style>\n",
              "<table border=\"1\" class=\"dataframe\">\n",
              "  <thead>\n",
              "    <tr style=\"text-align: right;\">\n",
              "      <th></th>\n",
              "      <th>id</th>\n",
              "      <th>names</th>\n",
              "    </tr>\n",
              "  </thead>\n",
              "  <tbody>\n",
              "    <tr>\n",
              "      <th>0</th>\n",
              "      <td>/m/011k07</td>\n",
              "      <td>Tortoise</td>\n",
              "    </tr>\n",
              "    <tr>\n",
              "      <th>1</th>\n",
              "      <td>/m/011q46kg</td>\n",
              "      <td>Container</td>\n",
              "    </tr>\n",
              "    <tr>\n",
              "      <th>2</th>\n",
              "      <td>/m/012074</td>\n",
              "      <td>Magpie</td>\n",
              "    </tr>\n",
              "    <tr>\n",
              "      <th>3</th>\n",
              "      <td>/m/0120dh</td>\n",
              "      <td>Sea turtle</td>\n",
              "    </tr>\n",
              "    <tr>\n",
              "      <th>4</th>\n",
              "      <td>/m/01226z</td>\n",
              "      <td>Football</td>\n",
              "    </tr>\n",
              "    <tr>\n",
              "      <th>...</th>\n",
              "      <td>...</td>\n",
              "      <td>...</td>\n",
              "    </tr>\n",
              "    <tr>\n",
              "      <th>596</th>\n",
              "      <td>/m/0qmmr</td>\n",
              "      <td>Wheelchair</td>\n",
              "    </tr>\n",
              "    <tr>\n",
              "      <th>597</th>\n",
              "      <td>/m/0wdt60w</td>\n",
              "      <td>Rugby ball</td>\n",
              "    </tr>\n",
              "    <tr>\n",
              "      <th>598</th>\n",
              "      <td>/m/0xfy</td>\n",
              "      <td>Armadillo</td>\n",
              "    </tr>\n",
              "    <tr>\n",
              "      <th>599</th>\n",
              "      <td>/m/0xzly</td>\n",
              "      <td>Maracas</td>\n",
              "    </tr>\n",
              "    <tr>\n",
              "      <th>600</th>\n",
              "      <td>/m/0zvk5</td>\n",
              "      <td>Helmet</td>\n",
              "    </tr>\n",
              "  </tbody>\n",
              "</table>\n",
              "<p>601 rows × 2 columns</p>\n",
              "</div>"
            ],
            "text/plain": [
              "              id       names\n",
              "0      /m/011k07    Tortoise\n",
              "1    /m/011q46kg   Container\n",
              "2      /m/012074      Magpie\n",
              "3      /m/0120dh  Sea turtle\n",
              "4      /m/01226z    Football\n",
              "..           ...         ...\n",
              "596     /m/0qmmr  Wheelchair\n",
              "597   /m/0wdt60w  Rugby ball\n",
              "598      /m/0xfy   Armadillo\n",
              "599     /m/0xzly     Maracas\n",
              "600     /m/0zvk5      Helmet\n",
              "\n",
              "[601 rows x 2 columns]"
            ]
          },
          "metadata": {
            "tags": []
          },
          "execution_count": 20
        }
      ]
    },
    {
      "cell_type": "code",
      "metadata": {
        "id": "TETW4gEOb5Ka",
        "colab_type": "code",
        "colab": {
          "base_uri": "https://localhost:8080/",
          "height": 34
        },
        "outputId": "f13dd1bd-c5c2-4e37-f253-beae4366eede"
      },
      "source": [
        "header = df_classes.columns\n",
        "header\n"
      ],
      "execution_count": null,
      "outputs": [
        {
          "output_type": "execute_result",
          "data": {
            "text/plain": [
              "Index(['id', 'names'], dtype='object')"
            ]
          },
          "metadata": {
            "tags": []
          },
          "execution_count": 21
        }
      ]
    },
    {
      "cell_type": "code",
      "metadata": {
        "id": "qMXCW7lM73j3",
        "colab_type": "code",
        "colab": {
          "base_uri": "https://localhost:8080/",
          "height": 221
        },
        "outputId": "cca8916a-0e0f-483b-e6cb-35d69ef86f19"
      },
      "source": [
        "df_classes['names']"
      ],
      "execution_count": null,
      "outputs": [
        {
          "output_type": "execute_result",
          "data": {
            "text/plain": [
              "0        Tortoise\n",
              "1       Container\n",
              "2          Magpie\n",
              "3      Sea turtle\n",
              "4        Football\n",
              "          ...    \n",
              "596    Wheelchair\n",
              "597    Rugby ball\n",
              "598     Armadillo\n",
              "599       Maracas\n",
              "600        Helmet\n",
              "Name: names, Length: 601, dtype: object"
            ]
          },
          "metadata": {
            "tags": []
          },
          "execution_count": 22
        }
      ]
    },
    {
      "cell_type": "code",
      "metadata": {
        "id": "i-HTcuWs6vkJ",
        "colab_type": "code",
        "colab": {}
      },
      "source": [
        "result_classes = []\n",
        "class_name = []"
      ],
      "execution_count": null,
      "outputs": []
    },
    {
      "cell_type": "code",
      "metadata": {
        "id": "vS1XKEzlb7cz",
        "colab_type": "code",
        "colab": {}
      },
      "source": [
        "for i in df_classes.index:\n",
        "    class_name.append(df_classes['names'][i])\n",
        "   \n",
        "\n"
      ],
      "execution_count": null,
      "outputs": []
    },
    {
      "cell_type": "code",
      "metadata": {
        "id": "MVMdAErS6zIG",
        "colab_type": "code",
        "colab": {
          "base_uri": "https://localhost:8080/",
          "height": 54
        },
        "outputId": "c7900baf-c888-4fec-d679-292403d4b278"
      },
      "source": [
        "print(class_name)"
      ],
      "execution_count": null,
      "outputs": [
        {
          "output_type": "stream",
          "text": [
            "['Tortoise', 'Container', 'Magpie', 'Sea turtle', 'Football', 'Ambulance', 'Ladder', 'Toothbrush', 'Syringe', 'Sink', 'Toy', 'Organ', 'Cassette deck', 'Apple', 'Human eye', 'Cosmetics', 'Paddle', 'Snowman', 'Beer', 'Chopsticks', 'Human beard', 'Bird', 'Parking meter', 'Traffic light', 'Croissant', 'Cucumber', 'Radish', 'Towel', 'Doll', 'Skull', 'Washing machine', 'Glove', 'Tick', 'Belt', 'Sunglasses', 'Banjo', 'Cart', 'Ball', 'Backpack', 'Bicycle', 'Home appliance', 'Centipede', 'Boat', 'Surfboard', 'Boot', 'Headphones', 'Hot dog', 'Shorts', 'Fast food', 'Bus', 'Boy', 'Screwdriver', 'Bicycle wheel', 'Barge', 'Laptop', 'Miniskirt', 'Drill', 'Dress', 'Bear', 'Waffle', 'Pancake', 'Brown bear', 'Woodpecker', 'Blue jay', 'Pretzel', 'Bagel', 'Tower', 'Teapot', 'Person', 'Bow and arrow', 'Swimwear', 'Beehive', 'Brassiere', 'Bee', 'Bat', 'Starfish', 'Popcorn', 'Burrito', 'Chainsaw', 'Balloon', 'Wrench', 'Tent', 'Vehicle registration plate', 'Lantern', 'Toaster', 'Flashlight', 'Billboard', 'Tiara', 'Limousine', 'Necklace', 'Carnivore', 'Scissors', 'Stairs', 'Computer keyboard', 'Printer', 'Traffic sign', 'Chair', 'Shirt', 'Poster', 'Cheese', 'Sock', 'Fire hydrant', 'Land vehicle', 'Earrings', 'Tie', 'Watercraft', 'Cabinetry', 'Suitcase', 'Muffin', 'Bidet', 'Snack', 'Snowmobile', 'Clock', 'Medical equipment', 'Cattle', 'Cello', 'Jet ski', 'Camel', 'Coat', 'Suit', 'Desk', 'Cat', 'Bronze sculpture', 'Juice', 'Gondola', 'Beetle', 'Cannon', 'Computer mouse', 'Cookie', 'Office building', 'Fountain', 'Coin', 'Calculator', 'Cocktail', 'Computer monitor', 'Box', 'Stapler', 'Christmas tree', 'Cowboy hat', 'Hiking equipment', 'Studio couch', 'Drum', 'Dessert', 'Wine rack', 'Drink', 'Zucchini', 'Ladle', 'Human mouth', 'Dairy', 'Dice', 'Oven', 'Dinosaur', 'Ratchet', 'Couch', 'Cricket ball', 'Winter melon', 'Spatula', 'Whiteboard', 'Pencil sharpener', 'Door', 'Hat', 'Shower', 'Eraser', 'Fedora', 'Guacamole', 'Dagger', 'Scarf', 'Dolphin', 'Sombrero', 'Tin can', 'Mug', 'Tap', 'Harbor seal', 'Stretcher', 'Can opener', 'Goggles', 'Human body', 'Roller skates', 'Coffee cup', 'Cutting board', 'Blender', 'Plumbing fixture', 'Stop sign', 'Office supplies', 'Volleyball', 'Vase', 'Slow cooker', 'Wardrobe', 'Coffee', 'Whisk', 'Paper towel', 'Personal care', 'Food', 'Sun hat', 'Tree house', 'Flying disc', 'Skirt', 'Gas stove', 'Salt and pepper shakers', 'Mechanical fan', 'Face powder', 'Fax', 'Fruit', 'French fries', 'Nightstand', 'Barrel', 'Kite', 'Tart', 'Treadmill', 'Fox', 'Flag', 'Horn', 'Window blind', 'Human foot', 'Golf cart', 'Jacket', 'Egg', 'Street light', 'Guitar', 'Pillow', 'Human leg', 'Isopod', 'Grape', 'Human ear', 'Power plugs and sockets', 'Panda', 'Giraffe', 'Woman', 'Door handle', 'Rhinoceros', 'Bathtub', 'Goldfish', 'Houseplant', 'Goat', 'Baseball bat', 'Baseball glove', 'Mixing bowl', 'Marine invertebrates', 'Kitchen utensil', 'Light switch', 'House', 'Horse', 'Stationary bicycle', 'Hammer', 'Ceiling fan', 'Sofa bed', 'Adhesive tape', 'Harp', 'Sandal', 'Bicycle helmet', 'Saucer', 'Harpsichord', 'Human hair', 'Heater', 'Harmonica', 'Hamster', 'Curtain', 'Bed', 'Kettle', 'Fireplace', 'Scale', 'Drinking straw', 'Insect', 'Hair dryer', 'Kitchenware', 'Indoor rower', 'Invertebrate', 'Food processor', 'Bookcase', 'Refrigerator', 'Wood-burning stove', 'Punching bag', 'Common fig', 'Cocktail shaker', 'Jaguar', 'Golf ball', 'Fashion accessory', 'Alarm clock', 'Filing cabinet', 'Artichoke', 'Table', 'Tableware', 'Kangaroo', 'Koala', 'Knife', 'Bottle', 'Bottle opener', 'Lynx', 'Lavender', 'Lighthouse', 'Dumbbell', 'Human head', 'Bowl', 'Humidifier', 'Porch', 'Lizard', 'Billiard table', 'Mammal', 'Mouse', 'Motorcycle', 'Musical instrument', 'Swim cap', 'Frying pan', 'Snowplow', 'Bathroom cabinet', 'Missile', 'Bust', 'Man', 'Waffle iron', 'Milk', 'Ring binder', 'Plate', 'Mobile phone', 'Baked goods', 'Mushroom', 'Crutch', 'Pitcher', 'Mirror', 'Lifejacket', 'Table tennis racket', 'Pencil case', 'Musical keyboard', 'Scoreboard', 'Briefcase', 'Kitchen knife', 'Nail', 'Tennis ball', 'Plastic bag', 'Oboe', 'Chest of drawers', 'Ostrich', 'Piano', 'Girl', 'Plant', 'Potato', 'Hair spray', 'Sports equipment', 'Pasta', 'Penguin', 'Pumpkin', 'Pear', 'Infant bed', 'Polar bear', 'Mixer', 'Cupboard', 'Jacuzzi', 'Pizza', 'Digital clock', 'Pig', 'Reptile', 'Rifle', 'Lipstick', 'Skateboard', 'Raven', 'High heels', 'Red panda', 'Rose', 'Rabbit', 'Sculpture', 'Saxophone', 'Shotgun', 'Seafood', 'Submarine sandwich', 'Snowboard', 'Sword', 'Picture frame', 'Sushi', 'Loveseat', 'Ski', 'Squirrel', 'Tripod', 'Stethoscope', 'Submarine', 'Scorpion', 'Segway', 'Training bench', 'Snake', 'Coffee table', 'Skyscraper', 'Sheep', 'Television', 'Trombone', 'Tea', 'Tank', 'Taco', 'Telephone', 'Torch', 'Tiger', 'Strawberry', 'Trumpet', 'Tree', 'Tomato', 'Train', 'Tool', 'Picnic basket', 'Cooking spray', 'Trousers', 'Bowling equipment', 'Football helmet', 'Truck', 'Measuring cup', 'Coffeemaker', 'Violin', 'Vehicle', 'Handbag', 'Paper cutter', 'Wine', 'Weapon', 'Wheel', 'Worm', 'Wok', 'Whale', 'Zebra', 'Auto part', 'Jug', 'Pizza cutter', 'Cream', 'Monkey', 'Lion', 'Bread', 'Platter', 'Chicken', 'Eagle', 'Helicopter', 'Owl', 'Duck', 'Turtle', 'Hippopotamus', 'Crocodile', 'Toilet', 'Toilet paper', 'Squid', 'Clothing', 'Footwear', 'Lemon', 'Spider', 'Deer', 'Frog', 'Banana', 'Rocket', 'Wine glass', 'Countertop', 'Tablet computer', 'Waste container', 'Swimming pool', 'Dog', 'Book', 'Elephant', 'Shark', 'Candle', 'Leopard', 'Axe', 'Hand dryer', 'Soap dispenser', 'Porcupine', 'Flower', 'Canary', 'Cheetah', 'Palm tree', 'Hamburger', 'Maple', 'Building', 'Fish', 'Lobster', 'Asparagus', 'Furniture', 'Hedgehog', 'Airplane', 'Spoon', 'Otter', 'Bull', 'Oyster', 'Horizontal bar', 'Convenience store', 'Bomb', 'Bench', 'Ice cream', 'Caterpillar', 'Butterfly', 'Parachute', 'Orange', 'Antelope', 'Beaker', 'Moths and butterflies', 'Window', 'Closet', 'Castle', 'Jellyfish', 'Goose', 'Mule', 'Swan', 'Peach', 'Coconut', 'Seat belt', 'Raccoon', 'Chisel', 'Fork', 'Lamp', 'Camera', 'Squash', 'Racket', 'Human face', 'Human arm', 'Vegetable', 'Diaper', 'Unicycle', 'Falcon', 'Chime', 'Snail', 'Shellfish', 'Cabbage', 'Carrot', 'Mango', 'Jeans', 'Flowerpot', 'Pineapple', 'Drawer', 'Stool', 'Envelope', 'Cake', 'Dragonfly', 'Sunflower', 'Microwave oven', 'Honeycomb', 'Marine mammal', 'Sea lion', 'Ladybug', 'Shelf', 'Watch', 'Candy', 'Salad', 'Parrot', 'Handgun', 'Sparrow', 'Van', 'Grinder', 'Spice rack', 'Light bulb', 'Corded phone', 'Sports uniform', 'Tennis racket', 'Wall clock', 'Serving tray', 'Kitchen & dining room table', 'Dog bed', 'Cake stand', 'Cat furniture', 'Bathroom accessory', 'Facial tissue holder', 'Pressure cooker', 'Kitchen appliance', 'Tire', 'Ruler', 'Luggage and bags', 'Microphone', 'Broccoli', 'Umbrella', 'Pastry', 'Grapefruit', 'Band-aid', 'Animal', 'Bell pepper', 'Turkey', 'Lily', 'Pomegranate', 'Doughnut', 'Glasses', 'Human nose', 'Pen', 'Ant', 'Car', 'Aircraft', 'Human hand', 'Skunk', 'Teddy bear', 'Watermelon', 'Cantaloupe', 'Dishwasher', 'Flute', 'Balance beam', 'Sandwich', 'Shrimp', 'Sewing machine', 'Binoculars', 'Rays and skates', 'Ipod', 'Accordion', 'Willow', 'Crab', 'Crown', 'Seahorse', 'Perfume', 'Alpaca', 'Taxi', 'Canoe', 'Remote control', 'Wheelchair', 'Rugby ball', 'Armadillo', 'Maracas', 'Helmet']\n"
          ],
          "name": "stdout"
        }
      ]
    },
    {
      "cell_type": "code",
      "metadata": {
        "id": "y08U24lZ_-LH",
        "colab_type": "code",
        "colab": {}
      },
      "source": [
        "for s in subset:\n",
        "    if s in class_name:\n",
        "        result_classes.append(s)\n",
        "\n"
      ],
      "execution_count": null,
      "outputs": []
    },
    {
      "cell_type": "code",
      "metadata": {
        "id": "8rg9N6fZA7_f",
        "colab_type": "code",
        "colab": {
          "base_uri": "https://localhost:8080/",
          "height": 71
        },
        "outputId": "04fe907b-ee8c-4d60-f2c3-e05bc877729a"
      },
      "source": [
        "print(result_classes)\n",
        "len(result_classes)"
      ],
      "execution_count": null,
      "outputs": [
        {
          "output_type": "stream",
          "text": [
            "['Toilet', 'Bed', 'Sink', 'Fountain', 'Oven', 'Television', 'Refrigerator', 'Bathtub', 'Stairs', 'Fireplace', 'Pillow', 'Mirror', 'Shower', 'Couch', 'Countertop', 'Coffeemaker', 'Dishwasher', 'Towel', 'Porch', 'Jacuzzi']\n"
          ],
          "name": "stdout"
        },
        {
          "output_type": "execute_result",
          "data": {
            "text/plain": [
              "20"
            ]
          },
          "metadata": {
            "tags": []
          },
          "execution_count": 55
        }
      ]
    },
    {
      "cell_type": "code",
      "metadata": {
        "id": "Ovj8eXiWBDbr",
        "colab_type": "code",
        "colab": {}
      },
      "source": [
        "#simple one line hack\n",
        "df_classes['match'] = df_classes['names'].isin(subset)"
      ],
      "execution_count": null,
      "outputs": []
    },
    {
      "cell_type": "code",
      "metadata": {
        "id": "ClQQC4rpDjqH",
        "colab_type": "code",
        "colab": {
          "base_uri": "https://localhost:8080/",
          "height": 419
        },
        "outputId": "5042adab-50cf-4040-fef8-251eddb8bfaf"
      },
      "source": [
        "df_classes"
      ],
      "execution_count": null,
      "outputs": [
        {
          "output_type": "execute_result",
          "data": {
            "text/html": [
              "<div>\n",
              "<style scoped>\n",
              "    .dataframe tbody tr th:only-of-type {\n",
              "        vertical-align: middle;\n",
              "    }\n",
              "\n",
              "    .dataframe tbody tr th {\n",
              "        vertical-align: top;\n",
              "    }\n",
              "\n",
              "    .dataframe thead th {\n",
              "        text-align: right;\n",
              "    }\n",
              "</style>\n",
              "<table border=\"1\" class=\"dataframe\">\n",
              "  <thead>\n",
              "    <tr style=\"text-align: right;\">\n",
              "      <th></th>\n",
              "      <th>id</th>\n",
              "      <th>names</th>\n",
              "      <th>match</th>\n",
              "    </tr>\n",
              "  </thead>\n",
              "  <tbody>\n",
              "    <tr>\n",
              "      <th>0</th>\n",
              "      <td>/m/011k07</td>\n",
              "      <td>Tortoise</td>\n",
              "      <td>False</td>\n",
              "    </tr>\n",
              "    <tr>\n",
              "      <th>1</th>\n",
              "      <td>/m/011q46kg</td>\n",
              "      <td>Container</td>\n",
              "      <td>False</td>\n",
              "    </tr>\n",
              "    <tr>\n",
              "      <th>2</th>\n",
              "      <td>/m/012074</td>\n",
              "      <td>Magpie</td>\n",
              "      <td>False</td>\n",
              "    </tr>\n",
              "    <tr>\n",
              "      <th>3</th>\n",
              "      <td>/m/0120dh</td>\n",
              "      <td>Sea turtle</td>\n",
              "      <td>False</td>\n",
              "    </tr>\n",
              "    <tr>\n",
              "      <th>4</th>\n",
              "      <td>/m/01226z</td>\n",
              "      <td>Football</td>\n",
              "      <td>False</td>\n",
              "    </tr>\n",
              "    <tr>\n",
              "      <th>...</th>\n",
              "      <td>...</td>\n",
              "      <td>...</td>\n",
              "      <td>...</td>\n",
              "    </tr>\n",
              "    <tr>\n",
              "      <th>596</th>\n",
              "      <td>/m/0qmmr</td>\n",
              "      <td>Wheelchair</td>\n",
              "      <td>False</td>\n",
              "    </tr>\n",
              "    <tr>\n",
              "      <th>597</th>\n",
              "      <td>/m/0wdt60w</td>\n",
              "      <td>Rugby ball</td>\n",
              "      <td>False</td>\n",
              "    </tr>\n",
              "    <tr>\n",
              "      <th>598</th>\n",
              "      <td>/m/0xfy</td>\n",
              "      <td>Armadillo</td>\n",
              "      <td>False</td>\n",
              "    </tr>\n",
              "    <tr>\n",
              "      <th>599</th>\n",
              "      <td>/m/0xzly</td>\n",
              "      <td>Maracas</td>\n",
              "      <td>False</td>\n",
              "    </tr>\n",
              "    <tr>\n",
              "      <th>600</th>\n",
              "      <td>/m/0zvk5</td>\n",
              "      <td>Helmet</td>\n",
              "      <td>False</td>\n",
              "    </tr>\n",
              "  </tbody>\n",
              "</table>\n",
              "<p>601 rows × 3 columns</p>\n",
              "</div>"
            ],
            "text/plain": [
              "              id       names  match\n",
              "0      /m/011k07    Tortoise  False\n",
              "1    /m/011q46kg   Container  False\n",
              "2      /m/012074      Magpie  False\n",
              "3      /m/0120dh  Sea turtle  False\n",
              "4      /m/01226z    Football  False\n",
              "..           ...         ...    ...\n",
              "596     /m/0qmmr  Wheelchair  False\n",
              "597   /m/0wdt60w  Rugby ball  False\n",
              "598      /m/0xfy   Armadillo  False\n",
              "599     /m/0xzly     Maracas  False\n",
              "600     /m/0zvk5      Helmet  False\n",
              "\n",
              "[601 rows x 3 columns]"
            ]
          },
          "metadata": {
            "tags": []
          },
          "execution_count": 61
        }
      ]
    },
    {
      "cell_type": "code",
      "metadata": {
        "id": "ash9CGr5EEOl",
        "colab_type": "code",
        "colab": {
          "base_uri": "https://localhost:8080/",
          "height": 68
        },
        "outputId": "497ada49-e4c9-4e76-e15c-2a9e1b3a628f"
      },
      "source": [
        "df_classes['match'].value_counts()   #a better way to check count of trues/false"
      ],
      "execution_count": null,
      "outputs": [
        {
          "output_type": "execute_result",
          "data": {
            "text/plain": [
              "False    581\n",
              "True      20\n",
              "Name: match, dtype: int64"
            ]
          },
          "metadata": {
            "tags": []
          },
          "execution_count": 65
        }
      ]
    },
    {
      "cell_type": "code",
      "metadata": {
        "id": "w6uloB_bGqzn",
        "colab_type": "code",
        "colab": {
          "base_uri": "https://localhost:8080/",
          "height": 374
        },
        "outputId": "cb03fd23-24f9-4980-802a-a170a7b8a2a7"
      },
      "source": [
        "match = df_classes[df_classes['match'] == True]['names']\n",
        "match"
      ],
      "execution_count": null,
      "outputs": [
        {
          "output_type": "execute_result",
          "data": {
            "text/plain": [
              "9              Sink\n",
              "27            Towel\n",
              "92           Stairs\n",
              "130        Fountain\n",
              "150            Oven\n",
              "153           Couch\n",
              "161          Shower\n",
              "219          Pillow\n",
              "230         Bathtub\n",
              "257             Bed\n",
              "259       Fireplace\n",
              "269    Refrigerator\n",
              "294           Porch\n",
              "317          Mirror\n",
              "345         Jacuzzi\n",
              "380      Television\n",
              "401     Coffeemaker\n",
              "429          Toilet\n",
              "441      Countertop\n",
              "577      Dishwasher\n",
              "Name: names, dtype: object"
            ]
          },
          "metadata": {
            "tags": []
          },
          "execution_count": 69
        }
      ]
    },
    {
      "cell_type": "code",
      "metadata": {
        "id": "TtawDJdMRsrO",
        "colab_type": "code",
        "colab": {
          "base_uri": "https://localhost:8080/",
          "height": 357
        },
        "outputId": "f55b2e2a-9b0a-4905-dc21-120be6f780b7"
      },
      "source": [
        "#alt\n",
        "for i in df_classes.index:\n",
        "    if df_classes['match'][i] == True:\n",
        "        print(df_classes['names'][i]) "
      ],
      "execution_count": null,
      "outputs": [
        {
          "output_type": "stream",
          "text": [
            "Sink\n",
            "Towel\n",
            "Stairs\n",
            "Fountain\n",
            "Oven\n",
            "Couch\n",
            "Shower\n",
            "Pillow\n",
            "Bathtub\n",
            "Bed\n",
            "Fireplace\n",
            "Refrigerator\n",
            "Porch\n",
            "Mirror\n",
            "Jacuzzi\n",
            "Television\n",
            "Coffeemaker\n",
            "Toilet\n",
            "Countertop\n",
            "Dishwasher\n"
          ],
          "name": "stdout"
        }
      ]
    },
    {
      "cell_type": "code",
      "metadata": {
        "id": "0fCvd2WUSLyi",
        "colab_type": "code",
        "colab": {
          "base_uri": "https://localhost:8080/",
          "height": 187
        },
        "outputId": "5e12ea96-7402-4b65-fc32-675d92e6d4b9"
      },
      "source": [
        "missing_classes = list(set(subset) - set(match))\n",
        "missing_classes"
      ],
      "execution_count": null,
      "outputs": [
        {
          "output_type": "execute_result",
          "data": {
            "text/plain": [
              "['Washing_machine',\n",
              " 'Billiard_table',\n",
              " 'Microwave_oven',\n",
              " 'Ceiling_fan',\n",
              " 'Wine_rack',\n",
              " 'Gas_stove',\n",
              " 'Tree_house',\n",
              " 'Swimming_pool',\n",
              " 'Sofa_bed',\n",
              " 'Kitchen_&_dining_room_table']"
            ]
          },
          "metadata": {
            "tags": []
          },
          "execution_count": 74
        }
      ]
    },
    {
      "cell_type": "code",
      "metadata": {
        "id": "-580MkldWEZd",
        "colab_type": "code",
        "colab": {
          "base_uri": "https://localhost:8080/",
          "height": 111
        },
        "outputId": "8c2a4c9f-5679-4c6b-e5e5-fee51d1844f3"
      },
      "source": [
        "#checking for slight name changes\n",
        "df_classes[df_classes['names'].str.contains('pool')] #contains method works only for strings\n",
        "df_classes[df_classes['names'].str.contains('oven')]\n",
        "df_classes[df_classes['names'].str.contains('stove')]\n"
      ],
      "execution_count": null,
      "outputs": [
        {
          "output_type": "execute_result",
          "data": {
            "text/html": [
              "<div>\n",
              "<style scoped>\n",
              "    .dataframe tbody tr th:only-of-type {\n",
              "        vertical-align: middle;\n",
              "    }\n",
              "\n",
              "    .dataframe tbody tr th {\n",
              "        vertical-align: top;\n",
              "    }\n",
              "\n",
              "    .dataframe thead th {\n",
              "        text-align: right;\n",
              "    }\n",
              "</style>\n",
              "<table border=\"1\" class=\"dataframe\">\n",
              "  <thead>\n",
              "    <tr style=\"text-align: right;\">\n",
              "      <th></th>\n",
              "      <th>id</th>\n",
              "      <th>names</th>\n",
              "      <th>match</th>\n",
              "    </tr>\n",
              "  </thead>\n",
              "  <tbody>\n",
              "    <tr>\n",
              "      <th>197</th>\n",
              "      <td>/m/02wv84t</td>\n",
              "      <td>Gas stove</td>\n",
              "      <td>False</td>\n",
              "    </tr>\n",
              "    <tr>\n",
              "      <th>270</th>\n",
              "      <td>/m/04169hn</td>\n",
              "      <td>Wood-burning stove</td>\n",
              "      <td>False</td>\n",
              "    </tr>\n",
              "  </tbody>\n",
              "</table>\n",
              "</div>"
            ],
            "text/plain": [
              "             id               names  match\n",
              "197  /m/02wv84t           Gas stove  False\n",
              "270  /m/04169hn  Wood-burning stove  False"
            ]
          },
          "metadata": {
            "tags": []
          },
          "execution_count": 78
        }
      ]
    },
    {
      "cell_type": "code",
      "metadata": {
        "id": "NOOdeABeYGrH",
        "colab_type": "code",
        "colab": {}
      },
      "source": [
        "strings = [] #getting all the single words\n",
        "for i in missing_classes:\n",
        "    strings.append(i.split('_'))\n"
      ],
      "execution_count": null,
      "outputs": []
    },
    {
      "cell_type": "code",
      "metadata": {
        "id": "mE5FFvE6ZAuV",
        "colab_type": "code",
        "colab": {
          "base_uri": "https://localhost:8080/",
          "height": 187
        },
        "outputId": "4f1d757f-d0f9-45cc-9165-f01453bdaa32"
      },
      "source": [
        "strings"
      ],
      "execution_count": null,
      "outputs": [
        {
          "output_type": "execute_result",
          "data": {
            "text/plain": [
              "[['Washing', 'machine'],\n",
              " ['Billiard', 'table'],\n",
              " ['Microwave', 'oven'],\n",
              " ['Ceiling', 'fan'],\n",
              " ['Wine', 'rack'],\n",
              " ['Gas', 'stove'],\n",
              " ['Tree', 'house'],\n",
              " ['Swimming', 'pool'],\n",
              " ['Sofa', 'bed'],\n",
              " ['Kitchen', '&', 'dining', 'room', 'table']]"
            ]
          },
          "metadata": {
            "tags": []
          },
          "execution_count": 107
        }
      ]
    },
    {
      "cell_type": "markdown",
      "metadata": {
        "id": "trnkCb0qQtPf",
        "colab_type": "text"
      },
      "source": [
        ""
      ]
    },
    {
      "cell_type": "code",
      "metadata": {
        "id": "VL6kpN-OfEBw",
        "colab_type": "code",
        "colab": {}
      },
      "source": [
        "more_matches = []\n",
        "for s in strings:\n",
        "    if s in class_name:\n",
        "        more_matches.append(s)\n",
        "\n"
      ],
      "execution_count": null,
      "outputs": []
    },
    {
      "cell_type": "code",
      "metadata": {
        "id": "hifkpeZ-fIqm",
        "colab_type": "code",
        "colab": {}
      },
      "source": [
        "more_matches"
      ],
      "execution_count": null,
      "outputs": []
    },
    {
      "cell_type": "code",
      "metadata": {
        "id": "1m1xeMdLg7wL",
        "colab_type": "code",
        "colab": {}
      },
      "source": [
        "# a fix\n",
        "classes = pd.read_csv(\"/content/class-descriptions-boxable.csv\", names=[\"ID\", \"Name\"])\n",
        "classes[\"match\"] = classes[\"Name\"].isin(subset)\n",
        "matches = classes[classes[\"match\"] == True][\"Name\"].tolist()\n",
        "missing_classes = list(set(subset)-set(matches))\n",
        "strings = [i.split('_') for i in missing_classes]\n",
        "strings = [item for sublist in strings for item in sublist]\n",
        "more_matches = []\n",
        "for string in strings:\n",
        "    more_matches.append(classes[classes[\"Name\"].str.contains(string)][\"Name\"].tolist())\n",
        "more_matches = list(set([item for sublist in more_matches for item in sublist]))\n"
      ],
      "execution_count": null,
      "outputs": []
    },
    {
      "cell_type": "code",
      "metadata": {
        "id": "msvXDkqfh9Ih",
        "colab_type": "code",
        "colab": {
          "base_uri": "https://localhost:8080/",
          "height": 544
        },
        "outputId": "9e8de6a2-1820-4d3b-9c10-3537c6a00de5"
      },
      "source": [
        "more_matches"
      ],
      "execution_count": null,
      "outputs": [
        {
          "output_type": "execute_result",
          "data": {
            "text/plain": [
              "['Dog bed',\n",
              " 'Tennis racket',\n",
              " 'Kitchen & dining room table',\n",
              " 'Ceiling fan',\n",
              " 'Washing machine',\n",
              " 'Wine',\n",
              " 'Table tennis racket',\n",
              " 'Sewing machine',\n",
              " 'Wine rack',\n",
              " 'Sofa bed',\n",
              " 'Kitchen appliance',\n",
              " 'Bathroom cabinet',\n",
              " 'Mechanical fan',\n",
              " 'Coffee table',\n",
              " 'Wood-burning stove',\n",
              " 'Tree',\n",
              " 'Lighthouse',\n",
              " 'Microwave oven',\n",
              " 'Spice rack',\n",
              " 'Kitchen utensil',\n",
              " 'Tree house',\n",
              " 'Gas stove',\n",
              " 'Wine glass',\n",
              " 'Bathroom accessory',\n",
              " 'Infant bed',\n",
              " 'Kitchenware',\n",
              " 'Billiard table',\n",
              " 'Kitchen knife',\n",
              " 'Mushroom',\n",
              " 'Vegetable',\n",
              " 'Swimming pool']"
            ]
          },
          "metadata": {
            "tags": []
          },
          "execution_count": 6
        }
      ]
    },
    {
      "cell_type": "code",
      "metadata": {
        "id": "LsxAd_02iNeh",
        "colab_type": "code",
        "colab": {
          "base_uri": "https://localhost:8080/",
          "height": 34
        },
        "outputId": "31f04ae3-fe9f-4bdb-b6ea-08bfac3c9028"
      },
      "source": [
        "len(more_matches)"
      ],
      "execution_count": null,
      "outputs": [
        {
          "output_type": "execute_result",
          "data": {
            "text/plain": [
              "31"
            ]
          },
          "metadata": {
            "tags": []
          },
          "execution_count": 116
        }
      ]
    },
    {
      "cell_type": "code",
      "metadata": {
        "id": "_aLpfN6ziw03",
        "colab_type": "code",
        "colab": {}
      },
      "source": [
        "missing_classes_without_space = [i.replace(\"_\",\" \") for i in missing_classes]"
      ],
      "execution_count": null,
      "outputs": []
    },
    {
      "cell_type": "code",
      "metadata": {
        "id": "tm9NNHTIjLUB",
        "colab_type": "code",
        "colab": {
          "base_uri": "https://localhost:8080/",
          "height": 187
        },
        "outputId": "1a1bdbd1-7528-4804-bd67-627be5d116ba"
      },
      "source": [
        "missing_classes_without_space"
      ],
      "execution_count": null,
      "outputs": [
        {
          "output_type": "execute_result",
          "data": {
            "text/plain": [
              "['Washing machine',\n",
              " 'Billiard table',\n",
              " 'Microwave oven',\n",
              " 'Ceiling fan',\n",
              " 'Wine rack',\n",
              " 'Gas stove',\n",
              " 'Tree house',\n",
              " 'Swimming pool',\n",
              " 'Sofa bed',\n",
              " 'Kitchen & dining room table']"
            ]
          },
          "metadata": {
            "tags": []
          },
          "execution_count": 118
        }
      ]
    },
    {
      "cell_type": "code",
      "metadata": {
        "id": "_GZS77q2jN7c",
        "colab_type": "code",
        "colab": {
          "base_uri": "https://localhost:8080/",
          "height": 34
        },
        "outputId": "0985d0ac-8fec-46d1-c34d-98d352d03c71"
      },
      "source": [
        "actual_missing_classes = list(set(missing_classes_without_space) - set(more_matches))\n",
        "actual_missing_classes"
      ],
      "execution_count": null,
      "outputs": [
        {
          "output_type": "execute_result",
          "data": {
            "text/plain": [
              "[]"
            ]
          },
          "metadata": {
            "tags": []
          },
          "execution_count": 120
        }
      ]
    },
    {
      "cell_type": "code",
      "metadata": {
        "id": "EXJPYTJ9jlhO",
        "colab_type": "code",
        "colab": {}
      },
      "source": [
        "#no class is actually missing\n",
        "subset_classes_without_space = [i.replace(\"_\",\" \") for i in subset]\n"
      ],
      "execution_count": null,
      "outputs": []
    },
    {
      "cell_type": "code",
      "metadata": {
        "id": "FlL7iFhCkRFe",
        "colab_type": "code",
        "colab": {
          "base_uri": "https://localhost:8080/",
          "height": 527
        },
        "outputId": "138d30de-e3cb-4cd6-8017-34461e722cc7"
      },
      "source": [
        "subset_classes_without_space"
      ],
      "execution_count": null,
      "outputs": [
        {
          "output_type": "execute_result",
          "data": {
            "text/plain": [
              "['Toilet',\n",
              " 'Swimming pool',\n",
              " 'Bed',\n",
              " 'Billiard table',\n",
              " 'Sink',\n",
              " 'Fountain',\n",
              " 'Oven',\n",
              " 'Ceiling fan',\n",
              " 'Television',\n",
              " 'Microwave oven',\n",
              " 'Gas stove',\n",
              " 'Refrigerator',\n",
              " 'Kitchen & dining room table',\n",
              " 'Washing machine',\n",
              " 'Bathtub',\n",
              " 'Stairs',\n",
              " 'Fireplace',\n",
              " 'Pillow',\n",
              " 'Mirror',\n",
              " 'Shower',\n",
              " 'Couch',\n",
              " 'Countertop',\n",
              " 'Coffeemaker',\n",
              " 'Dishwasher',\n",
              " 'Sofa bed',\n",
              " 'Tree house',\n",
              " 'Towel',\n",
              " 'Porch',\n",
              " 'Wine rack',\n",
              " 'Jacuzzi']"
            ]
          },
          "metadata": {
            "tags": []
          },
          "execution_count": 11
        }
      ]
    },
    {
      "cell_type": "code",
      "metadata": {
        "id": "JNd8IOzUmDmf",
        "colab_type": "code",
        "colab": {
          "base_uri": "https://localhost:8080/",
          "height": 802
        },
        "outputId": "f7ec4f5d-a6a3-44ef-8f48-23227d430c89"
      },
      "source": [
        "%cd /content/airbnb-amenity-detection\n",
        "#get all the data csvs\n",
        "!wget https://storage.googleapis.com/openimages/2018_04/class-descriptions-boxable.csv\n",
        " \n",
        "!wget https://storage.googleapis.com/openimages/2018_04/train/train-annotations-bbox.csv\n",
        " \n",
        "!wget https://storage.googleapis.com/openimages/2018_04/validation/validation-annotations-bbox.csv\n",
        " \n",
        "!wget https://storage.googleapis.com/openimages/2018_04/test/test-annotations-bbox.csv "
      ],
      "execution_count": null,
      "outputs": [
        {
          "output_type": "stream",
          "text": [
            "/content/airbnb-amenity-detection\n",
            "--2020-07-26 14:51:48--  https://storage.googleapis.com/openimages/2018_04/class-descriptions-boxable.csv\n",
            "Resolving storage.googleapis.com (storage.googleapis.com)... 74.125.23.128, 74.125.203.128, 64.233.187.128, ...\n",
            "Connecting to storage.googleapis.com (storage.googleapis.com)|74.125.23.128|:443... connected.\n",
            "HTTP request sent, awaiting response... 200 OK\n",
            "Length: 11255 (11K) [text/csv]\n",
            "Saving to: ‘class-descriptions-boxable.csv.1’\n",
            "\n",
            "class-descriptions- 100%[===================>]  10.99K  --.-KB/s    in 0s      \n",
            "\n",
            "2020-07-26 14:51:48 (85.0 MB/s) - ‘class-descriptions-boxable.csv.1’ saved [11255/11255]\n",
            "\n",
            "--2020-07-26 14:51:52--  https://storage.googleapis.com/openimages/2018_04/train/train-annotations-bbox.csv\n",
            "Resolving storage.googleapis.com (storage.googleapis.com)... 64.233.187.128, 64.233.189.128, 108.177.97.128, ...\n",
            "Connecting to storage.googleapis.com (storage.googleapis.com)|64.233.187.128|:443... connected.\n",
            "HTTP request sent, awaiting response... 200 OK\n",
            "Length: 1194033454 (1.1G) [text/csv]\n",
            "Saving to: ‘train-annotations-bbox.csv’\n",
            "\n",
            "train-annotations-b 100%[===================>]   1.11G  98.4MB/s    in 11s     \n",
            "\n",
            "2020-07-26 14:52:03 (106 MB/s) - ‘train-annotations-bbox.csv’ saved [1194033454/1194033454]\n",
            "\n",
            "--2020-07-26 14:52:05--  https://storage.googleapis.com/openimages/2018_04/validation/validation-annotations-bbox.csv\n",
            "Resolving storage.googleapis.com (storage.googleapis.com)... 64.233.188.128, 64.233.189.128, 108.177.97.128, ...\n",
            "Connecting to storage.googleapis.com (storage.googleapis.com)|64.233.188.128|:443... connected.\n",
            "HTTP request sent, awaiting response... 200 OK\n",
            "Length: 17074036 (16M) [text/csv]\n",
            "Saving to: ‘validation-annotations-bbox.csv’\n",
            "\n",
            "validation-annotati 100%[===================>]  16.28M  --.-KB/s    in 0.1s    \n",
            "\n",
            "2020-07-26 14:52:05 (145 MB/s) - ‘validation-annotations-bbox.csv’ saved [17074036/17074036]\n",
            "\n",
            "--2020-07-26 14:52:08--  https://storage.googleapis.com/openimages/2018_04/test/test-annotations-bbox.csv\n",
            "Resolving storage.googleapis.com (storage.googleapis.com)... 74.125.203.128, 64.233.189.128, 108.177.97.128, ...\n",
            "Connecting to storage.googleapis.com (storage.googleapis.com)|74.125.203.128|:443... connected.\n",
            "HTTP request sent, awaiting response... 200 OK\n",
            "Length: 52174204 (50M) [text/csv]\n",
            "Saving to: ‘test-annotations-bbox.csv’\n",
            "\n",
            "test-annotations-bb 100%[===================>]  49.76M   212MB/s    in 0.2s    \n",
            "\n",
            "2020-07-26 14:52:08 (212 MB/s) - ‘test-annotations-bbox.csv’ saved [52174204/52174204]\n",
            "\n"
          ],
          "name": "stdout"
        }
      ]
    },
    {
      "cell_type": "code",
      "metadata": {
        "id": "XAQPuPbGnc2C",
        "colab_type": "code",
        "colab": {
          "base_uri": "https://localhost:8080/",
          "height": 136
        },
        "outputId": "2a51e243-9e3a-4018-f91f-2ab2223a4a83"
      },
      "source": [
        "!git clone https://github.com/mrdbourke/airbnb-amenity-detection.git"
      ],
      "execution_count": null,
      "outputs": [
        {
          "output_type": "stream",
          "text": [
            "Cloning into 'airbnb-amenity-detection'...\n",
            "remote: Enumerating objects: 28, done.\u001b[K\n",
            "remote: Counting objects: 100% (28/28), done.\u001b[K\n",
            "remote: Compressing objects: 100% (25/25), done.\u001b[K\n",
            "remote: Total 215 (delta 12), reused 13 (delta 3), pack-reused 187\u001b[K\n",
            "Receiving objects: 100% (215/215), 54.26 MiB | 11.31 MiB/s, done.\n",
            "Resolving deltas: 100% (99/99), done.\n"
          ],
          "name": "stdout"
        }
      ]
    },
    {
      "cell_type": "code",
      "metadata": {
        "id": "uzoYzSREfvGx",
        "colab_type": "code",
        "colab": {}
      },
      "source": [
        "!python3 /content/airbnb-amenity-detection/downloadOI.py --classes 'Jacuzzi' --dataset 'train'"
      ],
      "execution_count": null,
      "outputs": []
    },
    {
      "cell_type": "code",
      "metadata": {
        "id": "NcC3UDK_gT01",
        "colab_type": "code",
        "colab": {
          "base_uri": "https://localhost:8080/",
          "height": 102
        },
        "outputId": "fde9cf6f-6326-4a84-85a3-a29526488697"
      },
      "source": [
        "!git clone https://github.com/EscVM/OIDv4_ToolKit.git"
      ],
      "execution_count": null,
      "outputs": [
        {
          "output_type": "stream",
          "text": [
            "Cloning into 'OIDv4_ToolKit'...\n",
            "remote: Enumerating objects: 422, done.\u001b[K\n",
            "remote: Total 422 (delta 0), reused 0 (delta 0), pack-reused 422\u001b[K\n",
            "Receiving objects: 100% (422/422), 34.08 MiB | 10.21 MiB/s, done.\n",
            "Resolving deltas: 100% (146/146), done.\n"
          ],
          "name": "stdout"
        }
      ]
    },
    {
      "cell_type": "code",
      "metadata": {
        "id": "6ZfY0neRiU2P",
        "colab_type": "code",
        "colab": {}
      },
      "source": [
        "!pip3 install -r /content/OIDv4_ToolKit/requirements.txt"
      ],
      "execution_count": null,
      "outputs": []
    },
    {
      "cell_type": "code",
      "metadata": {
        "id": "0gOrpZDYjABC",
        "colab_type": "code",
        "colab": {
          "base_uri": "https://localhost:8080/",
          "height": 34
        },
        "outputId": "42437377-7ff8-47d4-d74a-fc51d2f0cb23"
      },
      "source": [
        "%cd /content/OIDv4_ToolKit"
      ],
      "execution_count": null,
      "outputs": [
        {
          "output_type": "stream",
          "text": [
            "/content/OIDv4_ToolKit\n"
          ],
          "name": "stdout"
        }
      ]
    },
    {
      "cell_type": "code",
      "metadata": {
        "id": "Jnhyb0tRjJYW",
        "colab_type": "code",
        "colab": {
          "base_uri": "https://localhost:8080/",
          "height": 853
        },
        "outputId": "e7e4a2a0-6180-4ff6-d912-d5f87a624e36"
      },
      "source": [
        "!python3 main.py downloader --classes Apple Orange --type_csv validation"
      ],
      "execution_count": null,
      "outputs": [
        {
          "output_type": "stream",
          "text": [
            "\u001b[92m\n",
            "\t\t   ___   _____  ______            _    _    \n",
            "\t\t .'   `.|_   _||_   _ `.         | |  | |   \n",
            "\t\t/  .-.  \\ | |    | | `. \\ _   __ | |__| |_  \n",
            "\t\t| |   | | | |    | |  | |[ \\ [  ]|____   _| \n",
            "\t\t\\  `-'  /_| |_  _| |_.' / \\ \\/ /     _| |_  \n",
            "\t\t `.___.'|_____||______.'   \\__/     |_____|\n",
            "\t\u001b[0m\n",
            "\u001b[92m\n",
            "             _____                    _                 _             \n",
            "            (____ \\                  | |               | |            \n",
            "             _   \\ \\ ___  _ _ _ ____ | | ___   ____  _ | | ____  ____ \n",
            "            | |   | / _ \\| | | |  _ \\| |/ _ \\ / _  |/ || |/ _  )/ ___)\n",
            "            | |__/ / |_| | | | | | | | | |_| ( ( | ( (_| ( (/ /| |    \n",
            "            |_____/ \\___/ \\____|_| |_|_|\\___/ \\_||_|\\____|\\____)_|    \n",
            "                                                          \n",
            "        \u001b[0m\n",
            "    [INFO] | Downloading Apple.\u001b[0m\n",
            "\u001b[91m   [ERROR] | Missing the class-descriptions-boxable.csv file.\u001b[0m\n",
            "\u001b[94m[DOWNLOAD] | Do you want to download the missing file? [Y/n] \u001b[0mY\n",
            "...145%, 0 MB, 49745 KB/s, 0 seconds passed\n",
            "\u001b[94m[DOWNLOAD] | File class-descriptions-boxable.csv downloaded into OID/csv_folder/class-descriptions-boxable.csv.\u001b[0m\n",
            "\u001b[91m   [ERROR] | Missing the validation-annotations-bbox.csv file.\u001b[0m\n",
            "\u001b[94m[DOWNLOAD] | Do you want to download the missing file? [Y/n] \u001b[0mY\n",
            "...100%, 16 MB, 39440 KB/s, 0 seconds passed\n",
            "\u001b[94m[DOWNLOAD] | File validation-annotations-bbox.csv downloaded into OID/csv_folder/validation-annotations-bbox.csv.\u001b[0m\n",
            "\n",
            "\u001b[95mApple\u001b[0m\n",
            "    [INFO] | Downloading validation images.\u001b[0m\n",
            "    [INFO] | [INFO] Found 46 online images for validation.\u001b[0m\n",
            "    [INFO] | Download of 46 images in validation.\u001b[0m\n",
            "  0% 0/46 [00:00<?, ?it/s]Y\n",
            " 52% 24/46 [00:29<01:15,  3.44s/it]\n",
            " 89% 41/46 [00:36<00:04,  1.09it/s]\n",
            "100% 46/46 [00:39<00:00,  1.15it/s]\n",
            "    [INFO] | Done!\u001b[0m\n",
            "    [INFO] | Creating labels for Apple of validation.\u001b[0m\n",
            "    [INFO] | Labels creation completed.\u001b[0m\n",
            "    [INFO] | Downloading Orange.\u001b[0m\n",
            "\n",
            "\u001b[95mOrange\u001b[0m\n",
            "    [INFO] | Downloading validation images.\u001b[0m\n",
            "    [INFO] | [INFO] Found 61 online images for validation.\u001b[0m\n",
            "    [INFO] | Download of 61 images in validation.\u001b[0m\n",
            "100% 61/61 [00:44<00:00,  1.36it/s]\n",
            "    [INFO] | Done!\u001b[0m\n",
            "    [INFO] | Creating labels for Orange of validation.\u001b[0m\n",
            "    [INFO] | Labels creation completed.\u001b[0m\n"
          ],
          "name": "stdout"
        }
      ]
    },
    {
      "cell_type": "code",
      "metadata": {
        "id": "pcCN3qURjXf-",
        "colab_type": "code",
        "colab": {
          "base_uri": "https://localhost:8080/",
          "height": 561
        },
        "outputId": "4f40bedc-3f36-4a75-8031-257d2ddc9f9f"
      },
      "source": [
        "!python3 main.py downloader --classes Shower --type_csv train"
      ],
      "execution_count": null,
      "outputs": [
        {
          "output_type": "stream",
          "text": [
            "\u001b[92m\n",
            "\t\t   ___   _____  ______            _    _    \n",
            "\t\t .'   `.|_   _||_   _ `.         | |  | |   \n",
            "\t\t/  .-.  \\ | |    | | `. \\ _   __ | |__| |_  \n",
            "\t\t| |   | | | |    | |  | |[ \\ [  ]|____   _| \n",
            "\t\t\\  `-'  /_| |_  _| |_.' / \\ \\/ /     _| |_  \n",
            "\t\t `.___.'|_____||______.'   \\__/     |_____|\n",
            "\t\u001b[0m\n",
            "\u001b[92m\n",
            "             _____                    _                 _             \n",
            "            (____ \\                  | |               | |            \n",
            "             _   \\ \\ ___  _ _ _ ____ | | ___   ____  _ | | ____  ____ \n",
            "            | |   | / _ \\| | | |  _ \\| |/ _ \\ / _  |/ || |/ _  )/ ___)\n",
            "            | |__/ / |_| | | | | | | | | |_| ( ( | ( (_| ( (/ /| |    \n",
            "            |_____/ \\___/ \\____|_| |_|_|\\___/ \\_||_|\\____|\\____)_|    \n",
            "                                                          \n",
            "        \u001b[0m\n",
            "    [INFO] | Downloading Shower.\u001b[0m\n",
            "\u001b[91m   [ERROR] | Missing the train-annotations-bbox.csv file.\u001b[0m\n",
            "\u001b[94m[DOWNLOAD] | Do you want to download the missing file? [Y/n] \u001b[0mY\n",
            "...100%, 1138 MB, 36903 KB/s, 31 seconds passed\n",
            "\u001b[94m[DOWNLOAD] | File train-annotations-bbox.csv downloaded into OID/csv_folder/train-annotations-bbox.csv.\u001b[0m\n",
            "\n",
            "\n",
            "\u001b[95mShower\u001b[0m\n",
            "    [INFO] | Downloading train images.\u001b[0m\n",
            "    [INFO] | [INFO] Found 206 online images for train.\u001b[0m\n",
            "    [INFO] | Download of 206 images in train.\u001b[0m\n",
            "100% 206/206 [02:00<00:00,  1.70it/s]\n",
            "    [INFO] | Done!\u001b[0m\n",
            "    [INFO] | Creating labels for Shower of train.\u001b[0m\n",
            "    [INFO] | Labels creation completed.\u001b[0m\n"
          ],
          "name": "stdout"
        }
      ]
    },
    {
      "cell_type": "code",
      "metadata": {
        "id": "r9rKr-P0kIug",
        "colab_type": "code",
        "colab": {
          "base_uri": "https://localhost:8080/",
          "height": 241
        },
        "outputId": "a09fd712-722e-4856-ea6a-09b2031d127a"
      },
      "source": [
        "%cd /content/airbnb-amenity-detection\n",
        "!wget https://storage.googleapis.com/openimages/2018_04/class-descriptions-boxable.csv"
      ],
      "execution_count": null,
      "outputs": [
        {
          "output_type": "stream",
          "text": [
            "/content/airbnb-amenity-detection\n",
            "--2020-07-26 14:50:26--  https://storage.googleapis.com/openimages/2018_04/class-descriptions-boxable.csv\n",
            "Resolving storage.googleapis.com (storage.googleapis.com)... 64.233.189.128, 108.177.97.128, 108.177.125.128, ...\n",
            "Connecting to storage.googleapis.com (storage.googleapis.com)|64.233.189.128|:443... connected.\n",
            "HTTP request sent, awaiting response... 200 OK\n",
            "Length: 11255 (11K) [text/csv]\n",
            "Saving to: ‘class-descriptions-boxable.csv’\n",
            "\n",
            "class-descriptions- 100%[===================>]  10.99K  --.-KB/s    in 0s      \n",
            "\n",
            "2020-07-26 14:50:26 (85.2 MB/s) - ‘class-descriptions-boxable.csv’ saved [11255/11255]\n",
            "\n"
          ],
          "name": "stdout"
        }
      ]
    },
    {
      "cell_type": "code",
      "metadata": {
        "id": "wDxFjszDmRQq",
        "colab_type": "code",
        "colab": {
          "base_uri": "https://localhost:8080/",
          "height": 102
        },
        "outputId": "dffdd7b0-8bed-477f-b5bf-3d2cebc28861"
      },
      "source": [
        "# Download only images from the Kitchen & dining room table class from Open Images validation set\n",
        "!python3 downloadOI.py --dataset \"validation\" --classes \"Kitchen & dining room table\""
      ],
      "execution_count": null,
      "outputs": [
        {
          "output_type": "stream",
          "text": [
            "CPU count: 2\n",
            "Downloading class 0: Kitchen & dining room table\n",
            "grep /m/0h8n5zk ./validation-annotations-bbox.csv\n",
            "Downloading: 20 images | Num classes: 1 | Dataset: validation\n",
            "100% 20/20 [01:29<00:00,  4.45s/it]\n"
          ],
          "name": "stdout"
        }
      ]
    },
    {
      "cell_type": "code",
      "metadata": {
        "id": "GzqNyCtwpmAe",
        "colab_type": "code",
        "colab": {
          "base_uri": "https://localhost:8080/",
          "height": 221
        },
        "outputId": "64b37858-d23e-4f91-a2ef-24a7a7781082"
      },
      "source": [
        "!python3 downloadOI.py --classes 'Jacuzzi' --dataset train\n",
        "!python3 downloadOI.py --classes 'Toilet,Bathtub' --dataset validation"
      ],
      "execution_count": null,
      "outputs": [
        {
          "output_type": "stream",
          "text": [
            "CPU count: 2\n",
            "Downloading class 0: Jacuzzi\n",
            "grep /m/065h6l ./train-annotations-bbox.csv\n",
            "Downloading: 102 images | Num classes: 1 | Dataset: train\n",
            "100% 102/102 [07:25<00:00,  4.37s/it]\n",
            "CPU count: 2\n",
            "Downloading class 0: Toilet\n",
            "grep /m/09g1w ./validation-annotations-bbox.csv\n",
            "Downloading class 1: Bathtub\n",
            "grep /m/03dnzn ./validation-annotations-bbox.csv\n",
            "Downloading: 38 images | Num classes: 2 | Dataset: validation\n",
            "100% 38/38 [02:45<00:00,  4.35s/it]\n"
          ],
          "name": "stdout"
        }
      ]
    },
    {
      "cell_type": "code",
      "metadata": {
        "id": "Bu9kfNDJpmg0",
        "colab_type": "code",
        "colab": {}
      },
      "source": [
        ""
      ],
      "execution_count": null,
      "outputs": []
    }
  ]
}